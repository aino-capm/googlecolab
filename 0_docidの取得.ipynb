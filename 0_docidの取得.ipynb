{
  "cells": [
    {
      "cell_type": "markdown",
      "metadata": {
        "id": "view-in-github",
        "colab_type": "text"
      },
      "source": [
        "<a href=\"https://colab.research.google.com/github/aino-capm/googlecolab/blob/main/0_docid%E3%81%AE%E5%8F%96%E5%BE%97.ipynb\" target=\"_parent\"><img src=\"https://colab.research.google.com/assets/colab-badge.svg\" alt=\"Open In Colab\"/></a>"
      ]
    },
    {
      "cell_type": "code",
      "execution_count": null,
      "metadata": {
        "id": "IPc7OBXB4B1c"
      },
      "outputs": [],
      "source": [
        "#ライブラリーのインポート\n",
        "import datetime\n",
        "import requests\n",
        "import pandas as pd"
      ]
    },
    {
      "cell_type": "code",
      "execution_count": null,
      "metadata": {
        "id": "iWrXYZ00uvNx"
      },
      "outputs": [],
      "source": [
        "#対象日の指定\n",
        "start_date = datetime.date(2021, 5,1)\n",
        "end_date = datetime.date(2021, 7,31)"
      ]
    },
    {
      "cell_type": "code",
      "execution_count": null,
      "metadata": {
        "id": "AUOuqbkSvaZG"
      },
      "outputs": [],
      "source": [
        "#day_listの作成\n",
        "period = end_date - start_date\n",
        "period = int(period.days)\n",
        "day_list = []\n",
        "for d in range(period):\n",
        "    day = start_date + datetime.timedelta(days=d)\n",
        "    day_list.append(day)\n",
        "    \n",
        "day_list.append(end_date)"
      ]
    },
    {
      "cell_type": "code",
      "execution_count": null,
      "metadata": {
        "id": "0v9oxYCLwIxZ"
      },
      "outputs": [],
      "source": [
        "#対象期間における提出データの取得\n",
        "report_list =[]\n",
        "for day in day_list:\n",
        "    url = \"https://disclosure.edinet-fsa.go.jp/api/v1/documents.json\"\n",
        "    params = {\"date\": day, \"type\": 2}\n",
        "    res = requests.get(url, params=params)\n",
        "    json_data = res.json()\n",
        "\n",
        "    #以下のfor文は上のfor文の続きに書かないと、結局、最終日付分しか取得できないことになる。\n",
        "    for num in range(len(json_data[\"results\"])):\n",
        "        ordinance_code= json_data[\"results\"][num][\"ordinanceCode\"]\n",
        "        form_code= json_data[\"results\"][num][\"formCode\"]\n",
        "        \n",
        "        if ordinance_code == \"010\" and  form_code ==\"030000\" :\n",
        "            company_name=json_data[\"results\"][num][\"filerName\"]\n",
        "            edi={ '会社名':company_name,\n",
        "                        '書類名':json_data[\"results\"][num][\"docDescription\"],           \n",
        "                        'docID':json_data[\"results\"][num][\"docID\"],\n",
        "                        '証券コード':json_data[\"results\"][num][\"secCode\"],\n",
        "                        'EDINETコード':json_data[\"results\"][num][\"edinetCode\"],\n",
        "                        '決算期':json_data[\"results\"][num][\"periodEnd\"],\n",
        "                        '提出日': day             }\n",
        "            report_list.append(edi)\n"
      ]
    },
    {
      "cell_type": "code",
      "source": [
        "%load_ext google.colab.data_table"
      ],
      "metadata": {
        "id": "C4UPljWJiNpF"
      },
      "execution_count": null,
      "outputs": []
    },
    {
      "cell_type": "code",
      "execution_count": null,
      "metadata": {
        "id": "bscohph_zFcb"
      },
      "outputs": [],
      "source": [
        "df = pd.DataFrame(report_list)\n",
        "df"
      ]
    },
    {
      "cell_type": "code",
      "source": [
        "df_0331= df[df[\"決算期\"]==\"2021-03-31\"].sort_values(\"提出日\")\n",
        "df_0331"
      ],
      "metadata": {
        "id": "vstddKV3-0N7"
      },
      "execution_count": null,
      "outputs": []
    },
    {
      "cell_type": "code",
      "source": [
        "df_info = pd.read_csv(\"/content/EdinetcodeDlInfo.csv\",encoding=\"cp932\",skiprows=[0])\n",
        "df_info = df_info.rename(columns={\"提出者名\":\"会社名\"})\n",
        "df_info =df_info[[\"会社名\",\"提出者業種\"]]\n",
        "df_info "
      ],
      "metadata": {
        "id": "cxDu11Z0VhlV"
      },
      "execution_count": null,
      "outputs": []
    },
    {
      "cell_type": "code",
      "source": [
        "df_210331 = pd.merge(df_0331,df_info,how=\"inner\",on=\"会社名\")\n",
        "df_210331.to_csv(\"/content/drive/MyDrive/0_kikagaku/NPL_APP/edinetcodelist_2103.csv\")"
      ],
      "metadata": {
        "id": "Ha5i8EAVFGLr"
      },
      "execution_count": null,
      "outputs": []
    }
  ],
  "metadata": {
    "colab": {
      "name": "0_docidの取得.ipynb",
      "provenance": [],
      "collapsed_sections": [],
      "mount_file_id": "1W0ql6Wb_Z7HJKuw9UCHfTmDcFG670Ist",
      "authorship_tag": "ABX9TyNRi9+4/xAvAbrjJSIJdIWu",
      "include_colab_link": true
    },
    "kernelspec": {
      "display_name": "Python 3",
      "name": "python3"
    },
    "language_info": {
      "name": "python"
    },
    "gpuClass": "standard"
  },
  "nbformat": 4,
  "nbformat_minor": 0
}